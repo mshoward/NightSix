{
 "cells": [
  {
   "cell_type": "code",
   "execution_count": 76,
   "metadata": {
    "collapsed": true
   },
   "outputs": [],
   "source": [
    "import json"
   ]
  },
  {
   "cell_type": "code",
   "execution_count": 77,
   "metadata": {
    "collapsed": true
   },
   "outputs": [],
   "source": [
    "def openFile(fileName):\n",
    "     file = open(fileName,\"r\")\n",
    "     return file.read()   \n",
    "    \n",
    "def splitFileByPipe(file):\n",
    "    hl7List = []\n",
    "#     for i in file:\n",
    "    for j in file.splitlines():\n",
    "    #         print j.split(\"|\")\n",
    "        hl7List.append(j.split(\"|\"))\n",
    "    return hl7List\n",
    "\n",
    "def splitListBySpecialCharacters(list):\n",
    "    hl7Dict = {}\n",
    "    for i, x in enumerate(list):\n",
    "        hl7Dict[str(i)+'-'+list[i][0]] = {}\n",
    "        for idx, val in enumerate(x):\n",
    "            for idx2, val2 in enumerate(val.split('^')):\n",
    "#                 key = str(idx) +'.'+ str(idx2)\n",
    "                for idx3, val3 in enumerate(val2.split('~')):\n",
    "#                     key = key + '.' +str(idx3)\n",
    "                    key = str(idx) +'.'+ str(idx2) + '.' +str(idx3)\n",
    "                    hl7Dict[str(i)+'-'+list[i][0]][key] =  val3\n",
    "    return hl7Dict\n",
    "\n",
    "def convertDictToJSON(dict):\n",
    "    JSONFile = json.dumps(dict)\n",
    "    return JSONFile\n",
    "\n",
    "def writeJSONFile(JSONFile,fileName,iterator):\n",
    "    with open(fileName[:-4] + str(iterator) + '.json', 'w') as outfile:\n",
    "        json.dump(JSONFile, outfile)\n",
    "        \n",
    "def cleanDict(Dict):\n",
    "    newDict = {}\n",
    "    for k, v in Dict.items():\n",
    "        NestednewDict = {}\n",
    "        for k2, v2 in v.items():\n",
    "            if v2:\n",
    "                NestednewDict[k2] = v2\n",
    "        newDict[k] = NestednewDict\n",
    "        \n",
    "    return newDict\n",
    "\n",
    "def cleanDelimterMessage(dict):\n",
    "#     del dict['0-MSH']['1.1.0']      \n",
    "    del dict['0-MSH']['1.1.1'] \n",
    "    dict['0-MSH']['1.0.0'] = '^~\\&'\n",
    "    return dict"
   ]
  },
  {
   "cell_type": "code",
   "execution_count": 80,
   "metadata": {
    "collapsed": false
   },
   "outputs": [],
   "source": [
    "def parseMultipleMessageFile(fileName):\n",
    "    file = openFile(fileName)\n",
    "    file = file.split('MSH')\n",
    "    for i in range(1,len(file)):\n",
    "        message = 'MSH'+file[i]\n",
    "        hl7List = splitFileByPipe(message)\n",
    "        hl7Dict = splitListBySpecialCharacters(hl7List)\n",
    "        hl7Dict = cleanDict(hl7Dict)\n",
    "        hl7Dict2 = cleanDelimterMessage(hl7Dict)\n",
    "        JSONFile = convertDictToJSON(hl7Dict2)\n",
    "        print(JSONFile,'\\n')\n",
    "        writeJSONFile(JSONFile,fileName,i)\n",
    "    \n"
   ]
  },
  {
   "cell_type": "code",
   "execution_count": 81,
   "metadata": {
    "collapsed": false
   },
   "outputs": [
    {
     "name": "stdout",
     "output_type": "stream",
     "text": [
      "{\"0-MSH\": {\"0.0.0\": \"MSH\", \"2.0.0\": \"ADM\", \"3.0.0\": \"SHM\", \"4.0.0\": \"ALL\", \"5.0.0\": \"ALL\", \"6.0.0\": \"20090101010000\", \"8.0.0\": \"ADT\", \"8.1.0\": \"A08\", \"9.0.0\": \"IHS-20090101010000.00110\", \"10.0.0\": \"P\", \"11.0.0\": \"2.1\", \"1.0.0\": \"^~\\\\&\"}, \"1-PID\": {\"0.0.0\": \"PID\", \"1.0.0\": \"1\", \"3.0.0\": \"9081717170630.90992\", \"5.0.0\": \"SEIBERT\", \"5.1.0\": \"GALE\", \"5.2.0\": \"MATTHEW\", \"5.5.0\": \"MME\", \"7.0.0\": \"19700328\", \"8.0.0\": \"M\", \"11.0.0\": \"7136 GARDEN HWY\", \"11.1.0\": \"SACRAMENTO\", \"11.2.0\": \"SACRAMENTO\", \"11.3.0\": \"CA\", \"11.4.0\": \"94254\", \"11.5.0\": \"USA\", \"18.0.0\": \"242-82-6897\", \"19.0.0\": \"242-82-6897\"}, \"2-PV1\": {\"0.0.0\": \"PV1\", \"1.0.0\": \"1\", \"2.0.0\": \"I\", \"3.0.0\": \"P148\", \"3.1.0\": \"R6\", \"3.2.0\": \"B2\", \"4.0.0\": \"E\", \"7.0.0\": \"674-29-9786\", \"7.1.0\": \"WANSER\", \"7.2.0\": \"JEREMIAH\", \"7.3.0\": \"ETHAN\", \"7.4.0\": \"MD\", \"7.5.0\": \"DR\", \"8.0.0\": \"479-38-3053\", \"8.1.0\": \"LEIGERS\", \"8.2.0\": \"MATHEW\", \"8.3.0\": \"DAMIEN\", \"8.4.0\": \"MD\", \"8.5.0\": \"DR\", \"14.0.0\": \"2\", \"18.0.0\": \"IN\", \"44.0.0\": \"20090101125500\"}, \"3-NK1\": {\"0.0.0\": \"NK1\", \"1.0.0\": \"1\", \"2.0.0\": \"SEIBERT\", \"2.1.0\": \"FAUSTO\", \"2.2.0\": \"SPENCER\", \"2.5.0\": \"CPNP\", \"3.0.0\": \"FA\"}, \"4-IN1\": {\"0.0.0\": \"IN1\", \"1.0.0\": \"1\", \"2.0.0\": \"UNIT HLTH\", \"16.0.0\": \"SEIBERT\", \"16.1.0\": \"GALE\", \"16.2.0\": \"MATTHEW\", \"16.5.0\": \"MME\", \"17.0.0\": \"SELF\"}, \"5-\": {}} \n",
      "\n",
      "{\"0-MSH\": {\"0.0.0\": \"MSH\", \"2.0.0\": \"ADM\", \"3.0.0\": \"SHM\", \"4.0.0\": \"ALL\", \"5.0.0\": \"ALL\", \"6.0.0\": \"20090101010000\", \"8.0.0\": \"ADT\", \"8.1.0\": \"A04\", \"9.0.0\": \"IHS-20090101010000.00120\", \"10.0.0\": \"P\", \"11.0.0\": \"2.1\", \"1.0.0\": \"^~\\\\&\"}, \"1-PID\": {\"0.0.0\": \"PID\", \"1.0.0\": \"1\", \"3.0.0\": \"9081717170631.91082\", \"5.0.0\": \"CHUGG\", \"5.1.0\": \"ULYSSES\", \"5.2.0\": \"KURT\", \"5.5.0\": \"BN\", \"7.0.0\": \"19671210\", \"8.0.0\": \"M\", \"11.0.0\": \"5965 OAK RIDGE DR\", \"11.1.0\": \"SAN FRANCISCO\", \"11.2.0\": \"WELLS FARGO BANK\", \"11.3.0\": \"CA\", \"11.4.0\": \"94138\", \"11.5.0\": \"USA\", \"18.0.0\": \"586-45-6633\", \"19.0.0\": \"586-45-6633\"}, \"2-PV1\": {\"0.0.0\": \"PV1\", \"1.0.0\": \"1\", \"2.0.0\": \"O\", \"3.0.0\": \"P164\", \"3.1.0\": \"R13\", \"3.2.0\": \"B1\", \"4.0.0\": \"C\", \"7.0.0\": \"883-60-2397\", \"7.1.0\": \"MENNECKE\", \"7.2.0\": \"ANTONY\", \"7.3.0\": \"ALONZO\", \"7.4.0\": \"MD\", \"7.5.0\": \"DR\", \"8.0.0\": \"787-66-9946\", \"8.1.0\": \"CLAM\", \"8.2.0\": \"RAYMUNDO\", \"8.3.0\": \"JOSH\", \"8.4.0\": \"MD\", \"8.5.0\": \"DR\", \"14.0.0\": \"4\", \"18.0.0\": \"INO\", \"44.0.0\": \"20090101010000\"}, \"3-NK1\": {\"0.0.0\": \"NK1\", \"1.0.0\": \"1\", \"2.0.0\": \"CHUGG\", \"2.1.0\": \"JAMEL\", \"2.2.0\": \"RANDOLPH\", \"2.5.0\": \"MFA\", \"3.0.0\": \"FA\"}, \"4-IN1\": {\"0.0.0\": \"IN1\", \"1.0.0\": \"1\", \"2.0.0\": \"TRICARE\", \"16.0.0\": \"CHUGG\", \"16.1.0\": \"ULYSSES\", \"16.2.0\": \"KURT\", \"16.5.0\": \"BN\", \"17.0.0\": \"SELF\"}, \"5-\": {}} \n",
      "\n",
      "{\"0-MSH\": {\"0.0.0\": \"MSH\", \"2.0.0\": \"ADM\", \"3.0.0\": \"SHM\", \"4.0.0\": \"ALL\", \"5.0.0\": \"ALL\", \"6.0.0\": \"20090101010000\", \"8.0.0\": \"ORU\", \"8.1.0\": \"R01\", \"9.0.0\": \"IHS-20090101010000.00830\", \"10.0.0\": \"P\", \"11.0.0\": \"2.1\", \"1.0.0\": \"^~\\\\&\"}, \"1-PID\": {\"0.0.0\": \"PID\", \"1.0.0\": \"1\", \"3.0.0\": \"9081717170722.97472\", \"5.0.0\": \"RUBIE\", \"5.1.0\": \"ALBERT\", \"5.2.0\": \"ALLEN\", \"5.5.0\": \"AS\", \"7.0.0\": \"19930812\", \"8.0.0\": \"M\", \"11.0.0\": \"3250 DEL PASO BLVD\", \"11.1.0\": \"BUTTE\", \"11.2.0\": \"CHICO\", \"11.3.0\": \"CA\", \"11.4.0\": \"95973\", \"11.5.0\": \"USA\", \"18.0.0\": \"393-41-9499\", \"19.0.0\": \"393-41-9499\"}, \"2-PV1\": {\"0.0.0\": \"PV1\", \"1.0.0\": \"1\", \"2.0.0\": \"E\", \"3.0.0\": \"P194\", \"3.1.0\": \"R10\", \"3.2.0\": \"B3\", \"4.0.0\": \"N\", \"7.0.0\": \"441-53-8619\", \"7.1.0\": \"BEZA\", \"7.2.0\": \"ROSS\", \"7.3.0\": \"ROOSEVELT\", \"7.4.0\": \"MD\", \"7.5.0\": \"DR\", \"8.0.0\": \"360-77-9680\", \"8.1.0\": \"SERVI\", \"8.2.0\": \"EDMUNDO\", \"8.3.0\": \"OTTO\", \"8.4.0\": \"MD\", \"8.5.0\": \"DR\", \"14.0.0\": \"5\", \"18.0.0\": \"SDC\", \"44.0.0\": \"20090101065500\"}, \"3-NK1\": {\"0.0.0\": \"NK1\", \"1.0.0\": \"1\", \"2.0.0\": \"RUBIE\", \"2.1.0\": \"HARRY\", \"2.2.0\": \"ROBIN\", \"2.5.0\": \"MT\", \"3.0.0\": \"FA\"}, \"4-IN1\": {\"0.0.0\": \"IN1\", \"1.0.0\": \"1\", \"2.0.0\": \"UNIT HLTH\", \"16.0.0\": \"RUBIE\", \"16.1.0\": \"ALBERT\", \"16.2.0\": \"ALLEN\", \"16.5.0\": \"AS\", \"17.0.0\": \"SELF\"}, \"5-ORC\": {\"0.0.0\": \"ORC\", \"1.0.0\": \"RE\", \"2.0.0\": \"90101080000.830\", \"5.0.0\": \"CM\", \"9.0.0\": \"20090101080000\", \"10.0.0\": \"865-34-3627\", \"10.1.0\": \"MANTHE\", \"10.2.0\": \"JUSTIN\", \"10.3.0\": \"REYNALDO\", \"10.4.0\": \"MD\", \"10.5.0\": \"DR\", \"12.0.0\": \"452-74-4052\", \"12.1.0\": \"ALTHEIMER\", \"12.2.0\": \"THEODORE\", \"12.3.0\": \"JAMAL\", \"12.4.0\": \"MD\", \"12.5.0\": \"DR\"}, \"6-OBR\": {\"0.0.0\": \"OBR\", \"2.0.0\": \"90101080000.830\", \"4.0.0\": \"1205\", \"4.1.0\": \"MAGNETIC IMAGE, NECK SPINE\", \"16.0.0\": \"452-74-4052\", \"16.1.0\": \"ALTHEIMER\", \"16.2.0\": \"THEODORE\", \"16.3.0\": \"JAMAL\", \"16.4.0\": \"MD\", \"16.5.0\": \"DR\", \"17.0.0\": \"(408)-536-2087\", \"25.0.0\": \"A\", \"32.0.0\": \"699-27-2393\", \"32.0.1\": \"EPOLITO\", \"32.0.2\": \"HORACIO\", \"32.0.3\": \"GENE\", \"32.0.4\": \"MD\", \"32.0.5\": \"DR\", \"33.0.0\": \"644-57-6302\", \"33.0.1\": \"VINAGRE\", \"33.0.2\": \"HARRISON\", \"33.0.3\": \"TRACEY\", \"33.0.4\": \"MD\", \"33.0.5\": \"DR\", \"35.0.0\": \"609-14-8343\", \"35.0.1\": \"AHALT\", \"35.0.2\": \"CHONG\", \"35.0.3\": \"LYLE\", \"35.0.4\": \"MD\", \"35.0.5\": \"DR\", \"36.0.0\": \"20090101080000\"}, \"7-OBX\": {\"0.0.0\": \"OBX\", \"1.0.0\": \"1\", \"2.0.0\": \"TX\", \"5.0.0\": \"Results for patient: ALBERT RUBIE\", \"11.0.0\": \"P\"}, \"8-OBX\": {\"0.0.0\": \"OBX\", \"1.0.0\": \"2\", \"2.0.0\": \"TX\", \"5.0.0\": \"Exam 20090101080000: MAGNETIC IMAGE, NECK SPINE\", \"11.0.0\": \"P\"}, \"9-OBX\": {\"0.0.0\": \"OBX\", \"1.0.0\": \"3\", \"2.0.0\": \"TX\", \"5.0.0\": \"Referring Physician: Dr. EDMUNDO, SERVI\", \"11.0.0\": \"P\"}, \"10-OBX\": {\"0.0.0\": \"OBX\", \"1.0.0\": \"4\", \"2.0.0\": \"TX\", \"5.0.0\": \"Attending Physician: Dr. ROSS, BEZA\", \"11.0.0\": \"P\"}, \"11-OBX\": {\"0.0.0\": \"OBX\", \"1.0.0\": \"5\", \"2.0.0\": \"TX\", \"5.0.0\": \"Principal Result Interpreter: Dr. HORACIO, EPOLITO\", \"11.0.0\": \"P\"}} \n",
      "\n"
     ]
    }
   ],
   "source": [
    "fileName = \"final.hl7\"\n",
    "parseMultipleMessageFile(fileName)"
   ]
  },
  {
   "cell_type": "code",
   "execution_count": null,
   "metadata": {
    "collapsed": true
   },
   "outputs": [],
   "source": []
  },
  {
   "cell_type": "code",
   "execution_count": null,
   "metadata": {
    "collapsed": true
   },
   "outputs": [],
   "source": []
  }
 ],
 "metadata": {
  "kernelspec": {
   "display_name": "Python 3",
   "language": "python",
   "name": "python3"
  },
  "language_info": {
   "codemirror_mode": {
    "name": "ipython",
    "version": 3
   },
   "file_extension": ".py",
   "mimetype": "text/x-python",
   "name": "python",
   "nbconvert_exporter": "python",
   "pygments_lexer": "ipython3",
   "version": "3.6.0"
  }
 },
 "nbformat": 4,
 "nbformat_minor": 2
}
